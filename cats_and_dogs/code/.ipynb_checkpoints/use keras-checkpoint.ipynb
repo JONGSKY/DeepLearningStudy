{
 "cells": [
  {
   "cell_type": "code",
   "execution_count": 1,
   "metadata": {},
   "outputs": [],
   "source": [
    "import PIL.Image as pilimg\n",
    "import numpy as np\n",
    "import os"
   ]
  },
  {
   "cell_type": "code",
   "execution_count": 2,
   "metadata": {},
   "outputs": [],
   "source": [
    "path_train_cats = '../dataset/training_set/cats'\n",
    "path_train_dogs = '../dataset/training_set/dogs'\n",
    "path_test_cats = '../dataset/test_set/cats'\n",
    "path_test_dogs = '../dataset/test_set/dogs'"
   ]
  },
  {
   "cell_type": "code",
   "execution_count": 3,
   "metadata": {},
   "outputs": [],
   "source": [
    "file_list_train_cats = os.listdir(path_train_cats)\n",
    "file_list_train_dogs = os.listdir(path_train_dogs)\n",
    "file_list_test_cats = os.listdir(path_test_cats)\n",
    "file_list_test_dogs = os.listdir(path_test_dogs)"
   ]
  },
  {
   "cell_type": "code",
   "execution_count": 4,
   "metadata": {},
   "outputs": [],
   "source": [
    "file_list_train_cats.sort() #4000개\n",
    "file_list_train_dogs.sort() #4000개\n",
    "file_list_test_cats.sort() #1000개\n",
    "file_list_test_dogs.sort() #1000개"
   ]
  },
  {
   "cell_type": "code",
   "execution_count": 5,
   "metadata": {},
   "outputs": [],
   "source": [
    "train_cats = []\n",
    "train_dogs = []\n",
    "for i in range(len(file_list_train_cats)-1):\n",
    "    train_number = i+1\n",
    "    path_cats = path_train_cats+\"/\"+file_list_train_cats[train_number]\n",
    "    path_dogs = path_train_dogs+\"/\"+file_list_train_dogs[train_number]\n",
    "    img_cats = pilimg.open(path_cats)\n",
    "    img_cats = img_cats.convert('L')\n",
    "    img_cats = img_cats.resize((28,28))\n",
    "    train_cats.append(np.array(img_cats).astype(np.float32))\n",
    "    img_dogs = pilimg.open(path_dogs)\n",
    "    img_dogs = img_dogs.convert('L')\n",
    "    img_dogs = img_dogs.resize((28,28))\n",
    "    train_dogs.append(np.array(img_dogs).astype(np.float32))\n",
    "train_cats = np.array(train_cats)\n",
    "train_dogs = np.array(train_dogs)"
   ]
  },
  {
   "cell_type": "code",
   "execution_count": 6,
   "metadata": {},
   "outputs": [],
   "source": [
    "# train_cats_label = []\n",
    "# train_dogs_label = []\n",
    "# for i in range(len(file_list_train_cats)-1):\n",
    "#     cat_label = np.array([1,0])\n",
    "#     dog_label = np.array([0,1])\n",
    "#     train_cats_label.append(cat_label)\n",
    "#     train_dogs_label.append(dog_label)\n",
    "# train_cats_label = np.array(train_cats_label)\n",
    "# train_dogs_label = np.array(train_dogs_label)"
   ]
  },
  {
   "cell_type": "code",
   "execution_count": 7,
   "metadata": {},
   "outputs": [],
   "source": [
    "train_cats_label = np.zeros(4000)\n",
    "train_dogs_label = np.ones(4000)"
   ]
  },
  {
   "cell_type": "code",
   "execution_count": 8,
   "metadata": {},
   "outputs": [],
   "source": [
    "test_cats = []\n",
    "test_dogs = []\n",
    "for i in range(len(file_list_test_cats)-1):\n",
    "    test_number = i+1\n",
    "    path_cats = path_test_cats+\"/\"+file_list_test_cats[test_number]\n",
    "    path_dogs = path_test_dogs+\"/\"+file_list_test_dogs[test_number]\n",
    "    img_cats = pilimg.open(path_cats)\n",
    "    img_cats = img_cats.convert('L')\n",
    "    img_cats = img_cats.resize((28,28))\n",
    "    test_cats.append(np.array(img_cats).astype(np.float32))\n",
    "    img_dogs = pilimg.open(path_dogs)\n",
    "    img_dogs = img_dogs.convert('L')\n",
    "    img_dogs = img_dogs.resize((28,28))\n",
    "    test_dogs.append(np.array(img_dogs).astype(np.float32))\n",
    "test_cats = np.array(test_cats)\n",
    "test_dogs = np.array(test_dogs)"
   ]
  },
  {
   "cell_type": "code",
   "execution_count": 9,
   "metadata": {},
   "outputs": [],
   "source": [
    "# test_cats_label = []\n",
    "# test_dogs_label = []\n",
    "# for i in range(len(file_list_test_cats)-1):\n",
    "#     cat_label = np.array([1,0])\n",
    "#     dog_label = np.array([0,1])\n",
    "#     test_cats_label.append(cat_label)\n",
    "#     test_dogs_label.append(dog_label)\n",
    "# test_cats_label = np.array(test_cats_label)\n",
    "# test_dogs_label = np.array(test_dogs_label)"
   ]
  },
  {
   "cell_type": "code",
   "execution_count": 10,
   "metadata": {},
   "outputs": [],
   "source": [
    "test_cats_label = np.zeros(1000)\n",
    "test_dogs_label = np.ones(1000)"
   ]
  },
  {
   "cell_type": "code",
   "execution_count": 11,
   "metadata": {},
   "outputs": [],
   "source": [
    "x_train = np.vstack([train_cats, train_dogs])\n",
    "y_train = np.hstack([train_cats_label, train_dogs_label])\n",
    "x_test = np.vstack([test_cats, test_dogs])\n",
    "y_test = np.hstack([test_cats_label, test_dogs_label])"
   ]
  },
  {
   "cell_type": "code",
   "execution_count": 12,
   "metadata": {},
   "outputs": [
    {
     "data": {
      "text/plain": [
       "((8000, 28, 28), (8000,), (2000, 28, 28), (2000,))"
      ]
     },
     "execution_count": 12,
     "metadata": {},
     "output_type": "execute_result"
    }
   ],
   "source": [
    "x_train.shape, y_train.shape, x_test.shape, y_test.shape"
   ]
  },
  {
   "cell_type": "markdown",
   "metadata": {},
   "source": [
    "#### 신경망 구조"
   ]
  },
  {
   "cell_type": "code",
   "execution_count": 70,
   "metadata": {},
   "outputs": [],
   "source": [
    "from keras import models\n",
    "from keras import layers\n",
    "\n",
    "model = models.Sequential()\n",
    "model.add(layers.Dense(128, activation='relu', input_shape=(28*28,)))\n",
    "model.add(layers.Dense(128, activation='relu'))\n",
    "\n",
    "model.add(layers.Dense(2, activation='softmax'))"
   ]
  },
  {
   "cell_type": "markdown",
   "metadata": {},
   "source": [
    "#### 컴파일 단계"
   ]
  },
  {
   "cell_type": "code",
   "execution_count": 71,
   "metadata": {},
   "outputs": [],
   "source": [
    "model.compile(optimizer='rmsprop',\n",
    "              loss='categorical_crossentropy',\n",
    "              metrics=['accuracy'])"
   ]
  },
  {
   "cell_type": "markdown",
   "metadata": {},
   "source": [
    "#### 이미지 데이터 준비하기"
   ]
  },
  {
   "cell_type": "code",
   "execution_count": 72,
   "metadata": {},
   "outputs": [],
   "source": [
    "train_images = x_train.reshape((8000, 28*28))\n",
    "train_images = train_images.astype('float32')/255\n",
    "\n",
    "test_images = x_test.reshape((2000, 28*28))\n",
    "test_images = test_images.astype('float32')/255"
   ]
  },
  {
   "cell_type": "code",
   "execution_count": 73,
   "metadata": {},
   "outputs": [
    {
     "data": {
      "text/plain": [
       "((8000, 784), (2000, 784))"
      ]
     },
     "execution_count": 73,
     "metadata": {},
     "output_type": "execute_result"
    }
   ],
   "source": [
    "train_images.shape, test_images.shape"
   ]
  },
  {
   "cell_type": "markdown",
   "metadata": {},
   "source": [
    "#### 레이블 준비하기"
   ]
  },
  {
   "cell_type": "code",
   "execution_count": 74,
   "metadata": {},
   "outputs": [],
   "source": [
    "from keras.utils import to_categorical\n",
    "\n",
    "train_labels = to_categorical(y_train)\n",
    "test_labels = to_categorical(y_test)"
   ]
  },
  {
   "cell_type": "code",
   "execution_count": 75,
   "metadata": {},
   "outputs": [
    {
     "data": {
      "text/plain": [
       "((8000, 2), (2000, 2))"
      ]
     },
     "execution_count": 75,
     "metadata": {},
     "output_type": "execute_result"
    }
   ],
   "source": [
    "train_labels.shape, test_labels.shape"
   ]
  },
  {
   "cell_type": "markdown",
   "metadata": {},
   "source": [
    "#### 훈련 데이터에 모델을 학습"
   ]
  },
  {
   "cell_type": "code",
   "execution_count": 76,
   "metadata": {},
   "outputs": [
    {
     "name": "stdout",
     "output_type": "stream",
     "text": [
      "Epoch 1/5\n",
      "8000/8000 [==============================] - 0s 44us/step - loss: 0.7259 - acc: 0.5181\n",
      "Epoch 2/5\n",
      "8000/8000 [==============================] - 0s 22us/step - loss: 0.6890 - acc: 0.5517\n",
      "Epoch 3/5\n",
      "8000/8000 [==============================] - 0s 19us/step - loss: 0.6772 - acc: 0.5757\n",
      "Epoch 4/5\n",
      "8000/8000 [==============================] - 0s 21us/step - loss: 0.6703 - acc: 0.5879\n",
      "Epoch 5/5\n",
      "8000/8000 [==============================] - 0s 20us/step - loss: 0.6686 - acc: 0.5886\n"
     ]
    },
    {
     "data": {
      "text/plain": [
       "<keras.callbacks.History at 0x7fad34013048>"
      ]
     },
     "execution_count": 76,
     "metadata": {},
     "output_type": "execute_result"
    }
   ],
   "source": [
    "model.fit(train_images, train_labels, epochs=5, batch_size=128)"
   ]
  },
  {
   "cell_type": "markdown",
   "metadata": {},
   "source": [
    "#### 테스트 데이터에서 잘 작동하는지 확인"
   ]
  },
  {
   "cell_type": "code",
   "execution_count": 77,
   "metadata": {},
   "outputs": [
    {
     "name": "stdout",
     "output_type": "stream",
     "text": [
      "2000/2000 [==============================] - 0s 56us/step\n"
     ]
    }
   ],
   "source": [
    "test_loss, test_acc = model.evaluate(test_images, test_labels)"
   ]
  },
  {
   "cell_type": "code",
   "execution_count": 78,
   "metadata": {},
   "outputs": [
    {
     "name": "stdout",
     "output_type": "stream",
     "text": [
      "test_loss: 0.6769560127258301 test_acc: 0.5805\n"
     ]
    }
   ],
   "source": [
    "print('test_loss:', test_loss, 'test_acc:', test_acc)"
   ]
  },
  {
   "cell_type": "code",
   "execution_count": null,
   "metadata": {},
   "outputs": [],
   "source": []
  },
  {
   "cell_type": "code",
   "execution_count": null,
   "metadata": {},
   "outputs": [],
   "source": []
  }
 ],
 "metadata": {
  "kernelspec": {
   "display_name": "Python 3",
   "language": "python",
   "name": "python3"
  },
  "language_info": {
   "codemirror_mode": {
    "name": "ipython",
    "version": 3
   },
   "file_extension": ".py",
   "mimetype": "text/x-python",
   "name": "python",
   "nbconvert_exporter": "python",
   "pygments_lexer": "ipython3",
   "version": "3.7.3"
  }
 },
 "nbformat": 4,
 "nbformat_minor": 2
}
