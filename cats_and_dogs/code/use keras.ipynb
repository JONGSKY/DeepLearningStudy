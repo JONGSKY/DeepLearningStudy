{
 "cells": [
  {
   "cell_type": "code",
   "execution_count": 1,
   "metadata": {},
   "outputs": [],
   "source": [
    "import PIL.Image as pilimg\n",
    "import numpy as np\n",
    "import os"
   ]
  },
  {
   "cell_type": "code",
   "execution_count": 2,
   "metadata": {},
   "outputs": [],
   "source": [
    "path_train_cats = '../dataset/training_set/cats'\n",
    "path_train_dogs = '../dataset/training_set/dogs'\n",
    "path_test_cats = '../dataset/test_set/cats'\n",
    "path_test_dogs = '../dataset/test_set/dogs'"
   ]
  },
  {
   "cell_type": "code",
   "execution_count": 3,
   "metadata": {},
   "outputs": [],
   "source": [
    "file_list_train_cats = os.listdir(path_train_cats)\n",
    "file_list_train_dogs = os.listdir(path_train_dogs)\n",
    "file_list_test_cats = os.listdir(path_test_cats)\n",
    "file_list_test_dogs = os.listdir(path_test_dogs)"
   ]
  },
  {
   "cell_type": "code",
   "execution_count": 4,
   "metadata": {},
   "outputs": [],
   "source": [
    "file_list_train_cats.sort() #4000개\n",
    "file_list_train_dogs.sort() #4000개\n",
    "file_list_test_cats.sort() #1000개\n",
    "file_list_test_dogs.sort() #1000개"
   ]
  },
  {
   "cell_type": "code",
   "execution_count": 5,
   "metadata": {},
   "outputs": [],
   "source": [
    "# # 흑백 전처리\n",
    "# train_cats = []\n",
    "# train_dogs = []\n",
    "# for i in range(len(file_list_train_cats)-1):\n",
    "#     train_number = i+1\n",
    "#     path_cats = path_train_cats+\"/\"+file_list_train_cats[train_number]\n",
    "#     path_dogs = path_train_dogs+\"/\"+file_list_train_dogs[train_number]\n",
    "#     img_cats = pilimg.open(path_cats)\n",
    "#     img_cats = img_cats.convert('L')\n",
    "#     img_cats = img_cats.resize((28,28))\n",
    "#     train_cats.append(np.array(img_cats).astype(np.float32))\n",
    "#     img_dogs = pilimg.open(path_dogs)\n",
    "#     img_dogs = img_dogs.convert('L')\n",
    "#     img_dogs = img_dogs.resize((28,28))\n",
    "#     train_dogs.append(np.array(img_dogs).astype(np.float32))\n",
    "# train_cats = np.array(train_cats)\n",
    "# train_dogs = np.array(train_dogs)"
   ]
  },
  {
   "cell_type": "code",
   "execution_count": 6,
   "metadata": {},
   "outputs": [],
   "source": [
    "# 컬러 전처리\n",
    "train_cats = []\n",
    "train_dogs = []\n",
    "for i in range(len(file_list_train_cats)-1):\n",
    "    train_number = i+1\n",
    "    path_cats = path_train_cats+\"/\"+file_list_train_cats[train_number]\n",
    "    path_dogs = path_train_dogs+\"/\"+file_list_train_dogs[train_number]\n",
    "    img_cats = pilimg.open(path_cats)\n",
    "    img_cats = img_cats.resize((150,150))\n",
    "    train_cats.append(np.array(img_cats).astype(np.float32))\n",
    "    img_dogs = pilimg.open(path_dogs)\n",
    "    img_dogs = img_dogs.resize((150,150))\n",
    "    train_dogs.append(np.array(img_dogs).astype(np.float32))\n",
    "train_cats = np.array(train_cats)\n",
    "train_dogs = np.array(train_dogs)"
   ]
  },
  {
   "cell_type": "code",
   "execution_count": 7,
   "metadata": {},
   "outputs": [],
   "source": [
    "# train_cats_label = []\n",
    "# train_dogs_label = []\n",
    "# for i in range(len(file_list_train_cats)-1):\n",
    "#     cat_label = np.array([1,0])\n",
    "#     dog_label = np.array([0,1])\n",
    "#     train_cats_label.append(cat_label)\n",
    "#     train_dogs_label.append(dog_label)\n",
    "# train_cats_label = np.array(train_cats_label)\n",
    "# train_dogs_label = np.array(train_dogs_label)"
   ]
  },
  {
   "cell_type": "code",
   "execution_count": 8,
   "metadata": {},
   "outputs": [],
   "source": [
    "train_cats_label = np.zeros(4000)\n",
    "train_dogs_label = np.ones(4000)"
   ]
  },
  {
   "cell_type": "code",
   "execution_count": 9,
   "metadata": {},
   "outputs": [],
   "source": [
    "# # 흑백 전처리\n",
    "# test_cats = []\n",
    "# test_dogs = []\n",
    "# for i in range(len(file_list_test_cats)-1):\n",
    "#     test_number = i+1\n",
    "#     path_cats = path_test_cats+\"/\"+file_list_test_cats[test_number]\n",
    "#     path_dogs = path_test_dogs+\"/\"+file_list_test_dogs[test_number]\n",
    "#     img_cats = pilimg.open(path_cats)\n",
    "#     img_cats = img_cats.convert('L')\n",
    "#     img_cats = img_cats.resize((28,28))\n",
    "#     test_cats.append(np.array(img_cats).astype(np.float32))\n",
    "#     img_dogs = pilimg.open(path_dogs)\n",
    "#     img_dogs = img_dogs.convert('L')\n",
    "#     img_dogs = img_dogs.resize((28,28))\n",
    "#     test_dogs.append(np.array(img_dogs).astype(np.float32))\n",
    "# test_cats = np.array(test_cats)\n",
    "# test_dogs = np.array(test_dogs)"
   ]
  },
  {
   "cell_type": "code",
   "execution_count": 10,
   "metadata": {},
   "outputs": [],
   "source": [
    "# 컬러전처리\n",
    "test_cats = []\n",
    "test_dogs = []\n",
    "for i in range(len(file_list_test_cats)-1):\n",
    "    test_number = i+1\n",
    "    path_cats = path_test_cats+\"/\"+file_list_test_cats[test_number]\n",
    "    path_dogs = path_test_dogs+\"/\"+file_list_test_dogs[test_number]\n",
    "    img_cats = pilimg.open(path_cats)\n",
    "    img_cats = img_cats.resize((150,150))\n",
    "    test_cats.append(np.array(img_cats).astype(np.float32))\n",
    "    img_dogs = pilimg.open(path_dogs)\n",
    "    img_dogs = img_dogs.resize((150,150))\n",
    "    test_dogs.append(np.array(img_dogs).astype(np.float32))\n",
    "test_cats = np.array(test_cats)\n",
    "test_dogs = np.array(test_dogs)"
   ]
  },
  {
   "cell_type": "code",
   "execution_count": 11,
   "metadata": {},
   "outputs": [],
   "source": [
    "# test_cats_label = []\n",
    "# test_dogs_label = []\n",
    "# for i in range(len(file_list_test_cats)-1):\n",
    "#     cat_label = np.array([1,0])\n",
    "#     dog_label = np.array([0,1])\n",
    "#     test_cats_label.append(cat_label)\n",
    "#     test_dogs_label.append(dog_label)\n",
    "# test_cats_label = np.array(test_cats_label)\n",
    "# test_dogs_label = np.array(test_dogs_label)"
   ]
  },
  {
   "cell_type": "code",
   "execution_count": 12,
   "metadata": {},
   "outputs": [],
   "source": [
    "test_cats_label = np.zeros(1000)\n",
    "test_dogs_label = np.ones(1000)"
   ]
  },
  {
   "cell_type": "code",
   "execution_count": 13,
   "metadata": {},
   "outputs": [],
   "source": [
    "x_train = np.vstack([train_cats, train_dogs])\n",
    "y_train = np.hstack([train_cats_label, train_dogs_label])\n",
    "x_test = np.vstack([test_cats, test_dogs])\n",
    "y_test = np.hstack([test_cats_label, test_dogs_label])"
   ]
  },
  {
   "cell_type": "code",
   "execution_count": 14,
   "metadata": {},
   "outputs": [
    {
     "data": {
      "text/plain": [
       "((8000, 150, 150, 3), (8000,), (2000, 150, 150, 3), (2000,))"
      ]
     },
     "execution_count": 14,
     "metadata": {},
     "output_type": "execute_result"
    }
   ],
   "source": [
    "x_train.shape, y_train.shape, x_test.shape, y_test.shape"
   ]
  },
  {
   "cell_type": "markdown",
   "metadata": {},
   "source": [
    "#### 신경망 구조"
   ]
  },
  {
   "cell_type": "code",
   "execution_count": 15,
   "metadata": {},
   "outputs": [
    {
     "name": "stderr",
     "output_type": "stream",
     "text": [
      "Using TensorFlow backend.\n"
     ]
    },
    {
     "name": "stdout",
     "output_type": "stream",
     "text": [
      "WARNING:tensorflow:From /home/jongsky/miniconda3/envs/python/lib/python3.7/site-packages/tensorflow/python/framework/op_def_library.py:263: colocate_with (from tensorflow.python.framework.ops) is deprecated and will be removed in a future version.\n",
      "Instructions for updating:\n",
      "Colocations handled automatically by placer.\n"
     ]
    }
   ],
   "source": [
    "from keras import models\n",
    "from keras import layers\n",
    "from keras import regularizers\n",
    "\n",
    "# keep_prob = 0.5\n",
    "\n",
    "model = models.Sequential()\n",
    "model.add(layers.Conv2D(32, (3,3), activation='relu', input_shape=(150,150,3)))\n",
    "model.add(layers.MaxPool2D((2,2)))\n",
    "model.add(layers.Conv2D(64, (3,3), activation='relu'))\n",
    "model.add(layers.MaxPool2D((2,2)))\n",
    "model.add(layers.Conv2D(128, (3,3), activation='relu'))\n",
    "model.add(layers.MaxPool2D((2,2)))\n",
    "model.add(layers.Conv2D(128, (3,3), activation='relu'))\n",
    "model.add(layers.MaxPool2D((2,2)))\n",
    "model.add(layers.Flatten())\n",
    "model.add(layers.Dense(512, activation='relu'))\n",
    "model.add(layers.Dense(2, activation='sigmoid'))"
   ]
  },
  {
   "cell_type": "markdown",
   "metadata": {},
   "source": [
    "#### 컴파일 단계"
   ]
  },
  {
   "cell_type": "code",
   "execution_count": 16,
   "metadata": {},
   "outputs": [],
   "source": [
    "from keras import optimizers\n",
    "\n",
    "model.compile(optimizer=optimizers.RMSprop(lr=1e-4),\n",
    "              loss='categorical_crossentropy',\n",
    "              metrics=['accuracy'])"
   ]
  },
  {
   "cell_type": "markdown",
   "metadata": {},
   "source": [
    "#### 이미지 데이터 준비하기"
   ]
  },
  {
   "cell_type": "code",
   "execution_count": 17,
   "metadata": {},
   "outputs": [],
   "source": [
    "train_images = x_train.reshape((8000, 150,150,3))\n",
    "train_images = train_images.astype('float32')/255\n",
    "\n",
    "test_images = x_test.reshape((2000, 150,150,3))\n",
    "test_images = test_images.astype('float32')/255"
   ]
  },
  {
   "cell_type": "code",
   "execution_count": 18,
   "metadata": {},
   "outputs": [
    {
     "data": {
      "text/plain": [
       "((8000, 150, 150, 3), (2000, 150, 150, 3))"
      ]
     },
     "execution_count": 18,
     "metadata": {},
     "output_type": "execute_result"
    }
   ],
   "source": [
    "train_images.shape, test_images.shape"
   ]
  },
  {
   "cell_type": "markdown",
   "metadata": {},
   "source": [
    "#### 레이블 준비하기"
   ]
  },
  {
   "cell_type": "code",
   "execution_count": 19,
   "metadata": {},
   "outputs": [],
   "source": [
    "from keras.utils import to_categorical\n",
    "\n",
    "train_labels = to_categorical(y_train)\n",
    "test_labels = to_categorical(y_test)"
   ]
  },
  {
   "cell_type": "code",
   "execution_count": 20,
   "metadata": {},
   "outputs": [
    {
     "data": {
      "text/plain": [
       "((8000, 2), (2000, 2))"
      ]
     },
     "execution_count": 20,
     "metadata": {},
     "output_type": "execute_result"
    }
   ],
   "source": [
    "train_labels.shape, test_labels.shape"
   ]
  },
  {
   "cell_type": "markdown",
   "metadata": {},
   "source": [
    "#### 훈련 데이터에 모델을 학습"
   ]
  },
  {
   "cell_type": "code",
   "execution_count": 21,
   "metadata": {},
   "outputs": [
    {
     "name": "stdout",
     "output_type": "stream",
     "text": [
      "WARNING:tensorflow:From /home/jongsky/miniconda3/envs/python/lib/python3.7/site-packages/tensorflow/python/ops/math_ops.py:3066: to_int32 (from tensorflow.python.ops.math_ops) is deprecated and will be removed in a future version.\n",
      "Instructions for updating:\n",
      "Use tf.cast instead.\n",
      "Epoch 1/35\n",
      "8000/8000 [==============================] - 146s 18ms/step - loss: 0.6873 - acc: 0.5345\n",
      "Epoch 2/35\n",
      "8000/8000 [==============================] - 146s 18ms/step - loss: 0.6657 - acc: 0.5996\n",
      "Epoch 3/35\n",
      "8000/8000 [==============================] - 145s 18ms/step - loss: 0.6402 - acc: 0.6325\n",
      "Epoch 4/35\n",
      "8000/8000 [==============================] - 146s 18ms/step - loss: 0.6212 - acc: 0.6494\n",
      "Epoch 5/35\n",
      "8000/8000 [==============================] - 145s 18ms/step - loss: 0.5870 - acc: 0.6817\n",
      "Epoch 6/35\n",
      "8000/8000 [==============================] - 146s 18ms/step - loss: 0.5764 - acc: 0.6956\n",
      "Epoch 7/35\n",
      "8000/8000 [==============================] - 145s 18ms/step - loss: 0.5547 - acc: 0.7144\n",
      "Epoch 8/35\n",
      "8000/8000 [==============================] - 146s 18ms/step - loss: 0.5445 - acc: 0.7189\n",
      "Epoch 9/35\n",
      "8000/8000 [==============================] - 145s 18ms/step - loss: 0.5303 - acc: 0.7301\n",
      "Epoch 10/35\n",
      "8000/8000 [==============================] - 146s 18ms/step - loss: 0.5182 - acc: 0.7411\n",
      "Epoch 11/35\n",
      "8000/8000 [==============================] - 146s 18ms/step - loss: 0.5081 - acc: 0.7490\n",
      "Epoch 12/35\n",
      "8000/8000 [==============================] - 146s 18ms/step - loss: 0.4983 - acc: 0.7478\n",
      "Epoch 13/35\n",
      "8000/8000 [==============================] - 146s 18ms/step - loss: 0.4895 - acc: 0.7640\n",
      "Epoch 14/35\n",
      "8000/8000 [==============================] - 146s 18ms/step - loss: 0.4694 - acc: 0.7745\n",
      "Epoch 15/35\n",
      "8000/8000 [==============================] - 147s 18ms/step - loss: 0.4691 - acc: 0.7798\n",
      "Epoch 16/35\n",
      "8000/8000 [==============================] - 147s 18ms/step - loss: 0.4514 - acc: 0.7889\n",
      "Epoch 17/35\n",
      "8000/8000 [==============================] - 146s 18ms/step - loss: 0.4428 - acc: 0.7909\n",
      "Epoch 18/35\n",
      "8000/8000 [==============================] - 146s 18ms/step - loss: 0.4318 - acc: 0.8017\n",
      "Epoch 19/35\n",
      "8000/8000 [==============================] - 146s 18ms/step - loss: 0.4368 - acc: 0.7951\n",
      "Epoch 20/35\n",
      "8000/8000 [==============================] - 146s 18ms/step - loss: 0.4192 - acc: 0.8028\n",
      "Epoch 21/35\n",
      "8000/8000 [==============================] - 147s 18ms/step - loss: 0.4104 - acc: 0.8100\n",
      "Epoch 22/35\n",
      "8000/8000 [==============================] - 146s 18ms/step - loss: 0.4068 - acc: 0.8123\n",
      "Epoch 23/35\n",
      "8000/8000 [==============================] - 145s 18ms/step - loss: 0.4004 - acc: 0.8143\n",
      "Epoch 24/35\n",
      "8000/8000 [==============================] - 146s 18ms/step - loss: 0.3853 - acc: 0.8255\n",
      "Epoch 25/35\n",
      "8000/8000 [==============================] - 146s 18ms/step - loss: 0.3836 - acc: 0.8311\n",
      "Epoch 26/35\n",
      "8000/8000 [==============================] - 146s 18ms/step - loss: 0.3679 - acc: 0.8355\n",
      "Epoch 27/35\n",
      "8000/8000 [==============================] - 146s 18ms/step - loss: 0.3704 - acc: 0.8321\n",
      "Epoch 28/35\n",
      "8000/8000 [==============================] - 146s 18ms/step - loss: 0.3620 - acc: 0.8402\n",
      "Epoch 29/35\n",
      "8000/8000 [==============================] - 146s 18ms/step - loss: 0.3537 - acc: 0.8443\n",
      "Epoch 30/35\n",
      "8000/8000 [==============================] - 146s 18ms/step - loss: 0.3416 - acc: 0.8519\n",
      "Epoch 31/35\n",
      "8000/8000 [==============================] - 147s 18ms/step - loss: 0.3404 - acc: 0.8500\n",
      "Epoch 32/35\n",
      "8000/8000 [==============================] - 147s 18ms/step - loss: 0.3313 - acc: 0.8569\n",
      "Epoch 33/35\n",
      "8000/8000 [==============================] - 146s 18ms/step - loss: 0.3258 - acc: 0.8582\n",
      "Epoch 34/35\n",
      "8000/8000 [==============================] - 146s 18ms/step - loss: 0.3123 - acc: 0.8681\n",
      "Epoch 35/35\n",
      "8000/8000 [==============================] - 146s 18ms/step - loss: 0.3078 - acc: 0.8688\n"
     ]
    }
   ],
   "source": [
    "history = model.fit(train_images, train_labels, epochs=35, batch_size=256)"
   ]
  },
  {
   "cell_type": "markdown",
   "metadata": {},
   "source": [
    "#### 훈련과 검증 손실 그리기"
   ]
  },
  {
   "cell_type": "code",
   "execution_count": 26,
   "metadata": {},
   "outputs": [
    {
     "data": {
      "image/png": "[encoded data removed]",
      "text/plain": [
       "<Figure size 432x288 with 1 Axes>"
      ]
     },
     "metadata": {
      "needs_background": "light"
     },
     "output_type": "display_data"
    }
   ],
   "source": [
    "import matplotlib.pyplot as plt\n",
    "\n",
    "loss = history.history['loss']\n",
    "\n",
    "epochs = range(1,len(loss) +1)\n",
    "\n",
    "plt.plot(epochs, loss, 'bo', label='Training loss')\n",
    "plt.title('Training loss')\n",
    "plt.xlabel('Epochs')\n",
    "plt.ylabel('Loss')\n",
    "plt.legend()\n",
    "\n",
    "plt.show()"
   ]
  },
  {
   "cell_type": "markdown",
   "metadata": {},
   "source": [
    "#### 훈련과 검증 정확도 그리기"
   ]
  },
  {
   "cell_type": "code",
   "execution_count": 27,
   "metadata": {},
   "outputs": [
    {
     "data": {
      "image/png": "[encoded data removed]",
      "text/plain": [
       "<Figure size 432x288 with 1 Axes>"
      ]
     },
     "metadata": {
      "needs_background": "light"
     },
     "output_type": "display_data"
    }
   ],
   "source": [
    "plt.clf() #그래프 초기화\n",
    "\n",
    "acc = history.history['acc']\n",
    "\n",
    "plt.plot(epochs, acc, 'bo', label='Training acc')\n",
    "plt.title('Training accuracy')\n",
    "plt.xlabel('Epochs')\n",
    "plt.ylabel('Accuracy')\n",
    "plt.legend()\n",
    "\n",
    "plt.show()"
   ]
  },
  {
   "cell_type": "markdown",
   "metadata": {},
   "source": [
    "#### 테스트 데이터에서 잘 작동하는지 확인"
   ]
  },
  {
   "cell_type": "code",
   "execution_count": 28,
   "metadata": {},
   "outputs": [
    {
     "name": "stdout",
     "output_type": "stream",
     "text": [
      "2000/2000 [==============================] - 8s 4ms/step\n"
     ]
    }
   ],
   "source": [
    "test_loss, test_acc = model.evaluate(test_images, test_labels)"
   ]
  },
  {
   "cell_type": "code",
   "execution_count": 29,
   "metadata": {},
   "outputs": [
    {
     "name": "stdout",
     "output_type": "stream",
     "text": [
      "test_loss: 0.4724155170917511 test_acc: 0.778\n"
     ]
    }
   ],
   "source": [
    "print('test_loss:', test_loss, 'test_acc:', test_acc)"
   ]
  },
  {
   "cell_type": "code",
   "execution_count": 30,
   "metadata": {},
   "outputs": [
    {
     "data": {
      "text/plain": [
       "<keras.engine.sequential.Sequential at 0x7ff91bb86da0>"
      ]
     },
     "execution_count": 30,
     "metadata": {},
     "output_type": "execute_result"
    }
   ],
   "source": [
    "model."
   ]
  }
 ],
 "metadata": {
  "kernelspec": {
   "display_name": "Python 3",
   "language": "python",
   "name": "python3"
  },
  "language_info": {
   "codemirror_mode": {
    "name": "ipython",
    "version": 3
   },
   "file_extension": ".py",
   "mimetype": "text/x-python",
   "name": "python",
   "nbconvert_exporter": "python",
   "pygments_lexer": "ipython3",
   "version": "3.7.3"
  }
 },
 "nbformat": 4,
 "nbformat_minor": 2
}
