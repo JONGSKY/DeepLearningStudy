{
 "cells": [
  {
   "cell_type": "code",
   "execution_count": 3,
   "metadata": {},
   "outputs": [],
   "source": [
    "import tensorflow as tf\n",
    "import numpy as np"
   ]
  },
  {
   "cell_type": "markdown",
   "metadata": {},
   "source": [
    "### Animal classification\n",
    "#### with softmax_cross_entropy_with_logits"
   ]
  },
  {
   "cell_type": "code",
   "execution_count": 4,
   "metadata": {},
   "outputs": [],
   "source": [
    "xy = np.loadtxt('data-04-zoo.csv', delimiter=',', dtype=np.float32)\n",
    "x_data = xy[:, 0:-1]\n",
    "y_data = xy[:, [-1]]"
   ]
  },
  {
   "cell_type": "code",
   "execution_count": 13,
   "metadata": {},
   "outputs": [
    {
     "data": {
      "text/plain": [
       "(101, 16)"
      ]
     },
     "execution_count": 13,
     "metadata": {},
     "output_type": "execute_result"
    }
   ],
   "source": [
    "x_data.shape"
   ]
  },
  {
   "cell_type": "code",
   "execution_count": 14,
   "metadata": {},
   "outputs": [
    {
     "data": {
      "text/plain": [
       "(101, 1)"
      ]
     },
     "execution_count": 14,
     "metadata": {},
     "output_type": "execute_result"
    }
   ],
   "source": [
    "y_data.shape"
   ]
  },
  {
   "cell_type": "code",
   "execution_count": 32,
   "metadata": {},
   "outputs": [],
   "source": [
    "X = tf.placeholder(tf.float32,[None,16])\n",
    "Y = tf.placeholder(tf.int32,[None,1])\n",
    "\n",
    "nb_classes = 7 # Y의 값이 0~6"
   ]
  },
  {
   "cell_type": "code",
   "execution_count": 33,
   "metadata": {},
   "outputs": [],
   "source": [
    "Y_one_hot = tf.one_hot(Y, nb_classes)\n",
    "Y_one_hot = tf.reshape(Y_one_hot, [-1,nb_classes])"
   ]
  },
  {
   "cell_type": "markdown",
   "metadata": {},
   "source": [
    "#### full_code"
   ]
  },
  {
   "cell_type": "code",
   "execution_count": 66,
   "metadata": {
    "scrolled": false
   },
   "outputs": [
    {
     "name": "stdout",
     "output_type": "stream",
     "text": [
      "Step: 0\tLoss: 4.756100654602051\tAcc:0.32673266530036926\n",
      "Step: 100\tLoss: 0.6436102986335754\tAcc:0.801980197429657\n",
      "Step: 200\tLoss: 0.42485204339027405\tAcc:0.8613861203193665\n",
      "Step: 300\tLoss: 0.3129257261753082\tAcc:0.9207921028137207\n",
      "Step: 400\tLoss: 0.24465449154376984\tAcc:0.9405940771102905\n",
      "Step: 500\tLoss: 0.19948935508728027\tAcc:0.9603960514068604\n",
      "Step: 600\tLoss: 0.1679062396287918\tAcc:0.9702970385551453\n",
      "Step: 700\tLoss: 0.14481543004512787\tAcc:0.9801980257034302\n",
      "Step: 800\tLoss: 0.12729759514331818\tAcc:0.9900990128517151\n",
      "Step: 900\tLoss: 0.11359342932701111\tAcc:1.0\n",
      "Step: 1000\tLoss: 0.10259606689214706\tAcc:1.0\n",
      "Step: 1100\tLoss: 0.09358148276805878\tAcc:1.0\n",
      "Step: 1200\tLoss: 0.08605949580669403\tAcc:1.0\n",
      "Step: 1300\tLoss: 0.07968761771917343\tAcc:1.0\n",
      "Step: 1400\tLoss: 0.07422004640102386\tAcc:1.0\n",
      "Step: 1500\tLoss: 0.06947613507509232\tAcc:1.0\n",
      "Step: 1600\tLoss: 0.06532016396522522\tAcc:1.0\n",
      "Step: 1700\tLoss: 0.061648424714803696\tAcc:1.0\n",
      "Step: 1800\tLoss: 0.05838019400835037\tAcc:1.0\n",
      "Step: 1900\tLoss: 0.05545176938176155\tAcc:1.0\n",
      "Step: 2000\tLoss: 0.052812255918979645\tAcc:1.0\n",
      "[True] Prediction: 0 True Y : 0\n",
      "[True] Prediction: 0 True Y : 0\n",
      "[True] Prediction: 3 True Y : 3\n",
      "[True] Prediction: 0 True Y : 0\n",
      "[True] Prediction: 0 True Y : 0\n",
      "[True] Prediction: 0 True Y : 0\n",
      "[True] Prediction: 0 True Y : 0\n",
      "[True] Prediction: 3 True Y : 3\n",
      "[True] Prediction: 3 True Y : 3\n",
      "[True] Prediction: 0 True Y : 0\n",
      "[True] Prediction: 0 True Y : 0\n",
      "[True] Prediction: 1 True Y : 1\n",
      "[True] Prediction: 3 True Y : 3\n",
      "[True] Prediction: 6 True Y : 6\n",
      "[True] Prediction: 6 True Y : 6\n",
      "[True] Prediction: 6 True Y : 6\n",
      "[True] Prediction: 1 True Y : 1\n",
      "[True] Prediction: 0 True Y : 0\n",
      "[True] Prediction: 3 True Y : 3\n",
      "[True] Prediction: 0 True Y : 0\n",
      "[True] Prediction: 1 True Y : 1\n",
      "[True] Prediction: 1 True Y : 1\n",
      "[True] Prediction: 0 True Y : 0\n",
      "[True] Prediction: 1 True Y : 1\n",
      "[True] Prediction: 5 True Y : 5\n",
      "[True] Prediction: 4 True Y : 4\n",
      "[True] Prediction: 4 True Y : 4\n",
      "[True] Prediction: 0 True Y : 0\n",
      "[True] Prediction: 0 True Y : 0\n",
      "[True] Prediction: 0 True Y : 0\n",
      "[True] Prediction: 5 True Y : 5\n",
      "[True] Prediction: 0 True Y : 0\n",
      "[True] Prediction: 0 True Y : 0\n",
      "[True] Prediction: 1 True Y : 1\n",
      "[True] Prediction: 3 True Y : 3\n",
      "[True] Prediction: 0 True Y : 0\n",
      "[True] Prediction: 0 True Y : 0\n",
      "[True] Prediction: 1 True Y : 1\n",
      "[True] Prediction: 3 True Y : 3\n",
      "[True] Prediction: 5 True Y : 5\n",
      "[True] Prediction: 5 True Y : 5\n",
      "[True] Prediction: 1 True Y : 1\n",
      "[True] Prediction: 5 True Y : 5\n",
      "[True] Prediction: 1 True Y : 1\n",
      "[True] Prediction: 0 True Y : 0\n",
      "[True] Prediction: 0 True Y : 0\n",
      "[True] Prediction: 6 True Y : 6\n",
      "[True] Prediction: 0 True Y : 0\n",
      "[True] Prediction: 0 True Y : 0\n",
      "[True] Prediction: 0 True Y : 0\n",
      "[True] Prediction: 0 True Y : 0\n",
      "[True] Prediction: 5 True Y : 5\n",
      "[True] Prediction: 4 True Y : 4\n",
      "[True] Prediction: 6 True Y : 6\n",
      "[True] Prediction: 0 True Y : 0\n",
      "[True] Prediction: 0 True Y : 0\n",
      "[True] Prediction: 1 True Y : 1\n",
      "[True] Prediction: 1 True Y : 1\n",
      "[True] Prediction: 1 True Y : 1\n",
      "[True] Prediction: 1 True Y : 1\n",
      "[True] Prediction: 3 True Y : 3\n",
      "[True] Prediction: 3 True Y : 3\n",
      "[True] Prediction: 2 True Y : 2\n",
      "[True] Prediction: 0 True Y : 0\n",
      "[True] Prediction: 0 True Y : 0\n",
      "[True] Prediction: 0 True Y : 0\n",
      "[True] Prediction: 0 True Y : 0\n",
      "[True] Prediction: 0 True Y : 0\n",
      "[True] Prediction: 0 True Y : 0\n",
      "[True] Prediction: 0 True Y : 0\n",
      "[True] Prediction: 0 True Y : 0\n",
      "[True] Prediction: 1 True Y : 1\n",
      "[True] Prediction: 6 True Y : 6\n",
      "[True] Prediction: 3 True Y : 3\n",
      "[True] Prediction: 0 True Y : 0\n",
      "[True] Prediction: 0 True Y : 0\n",
      "[True] Prediction: 2 True Y : 2\n",
      "[True] Prediction: 6 True Y : 6\n",
      "[True] Prediction: 1 True Y : 1\n",
      "[True] Prediction: 1 True Y : 1\n",
      "[True] Prediction: 2 True Y : 2\n",
      "[True] Prediction: 6 True Y : 6\n",
      "[True] Prediction: 3 True Y : 3\n",
      "[True] Prediction: 1 True Y : 1\n",
      "[True] Prediction: 0 True Y : 0\n",
      "[True] Prediction: 6 True Y : 6\n",
      "[True] Prediction: 3 True Y : 3\n",
      "[True] Prediction: 1 True Y : 1\n",
      "[True] Prediction: 5 True Y : 5\n",
      "[True] Prediction: 4 True Y : 4\n",
      "[True] Prediction: 2 True Y : 2\n",
      "[True] Prediction: 2 True Y : 2\n",
      "[True] Prediction: 3 True Y : 3\n",
      "[True] Prediction: 0 True Y : 0\n",
      "[True] Prediction: 0 True Y : 0\n",
      "[True] Prediction: 1 True Y : 1\n",
      "[True] Prediction: 0 True Y : 0\n",
      "[True] Prediction: 5 True Y : 5\n",
      "[True] Prediction: 0 True Y : 0\n",
      "[True] Prediction: 6 True Y : 6\n",
      "[True] Prediction: 1 True Y : 1\n"
     ]
    }
   ],
   "source": [
    "xy = np.loadtxt('data-04-zoo.csv', delimiter=',', dtype=np.float32)\n",
    "x_data = xy[:, 0:-1]\n",
    "y_data = xy[:, [-1]]\n",
    "\n",
    "nb_classes = 7\n",
    "\n",
    "X = tf.placeholder(tf.float32,[None,16])\n",
    "Y = tf.placeholder(tf.int32,[None,1])\n",
    "\n",
    "Y_one_hot = tf.one_hot(Y, nb_classes)\n",
    "Y_one_hot = tf.reshape(Y_one_hot, [-1,nb_classes])\n",
    "\n",
    "W = tf.Variable(tf.random_normal([16,nb_classes]), name='weight')\n",
    "b = tf.Variable(tf.random_normal([nb_classes]), name='bias')\n",
    "\n",
    "# tf.nn.softmax computes softmax activations\n",
    "# softmax = exp(Logits) / reduce_sum(exp(Logits), dim)\n",
    "logits = tf.matmul(X,W) + b\n",
    "hypothesis = tf.nn.softmax(logits)\n",
    "\n",
    "# cross entropy cost/loss\n",
    "cost = tf.reduce_mean(tf.nn.softmax_cross_entropy_with_logits_v2(logits=logits,\n",
    "                                                                 labels=tf.stop_gradient([Y_one_hot])))\n",
    "# cost = tf.reduce_mean(-tf.reduce_sum(Y * tf.log(hypothesis), axis=1))\n",
    "optimizer = tf.train.GradientDescentOptimizer(learning_rate=0.1).minimize(cost)\n",
    "\n",
    "prediction = tf.argmax(hypothesis, 1)\n",
    "correct_prediction = tf.equal(prediction, tf.argmax(Y_one_hot, 1))\n",
    "accuracy = tf.reduce_mean(tf.cast(correct_prediction, tf.float32))\n",
    "\n",
    "with tf.Session() as sess:\n",
    "    sess.run(tf.global_variables_initializer())\n",
    "    \n",
    "    for step in range(2001):\n",
    "        sess.run(optimizer, feed_dict={X:x_data, Y:y_data})\n",
    "        if step %100 ==0:\n",
    "            loss, acc = sess.run([cost, accuracy], feed_dict={X:x_data, Y:y_data})\n",
    "            print(\"Step: {}\\tLoss: {}\\tAcc:{}\".format(step, loss, acc))\n",
    "            \n",
    "    pred = sess.run(prediction, feed_dict={X:x_data})\n",
    "    \n",
    "    for p, y in zip(pred, y_data.flatten()):\n",
    "        print(\"[{}] Prediction: {} True Y : {}\".format(p == int(y), p, int(y)))"
   ]
  }
 ],
 "metadata": {
  "kernelspec": {
   "display_name": "Python 3",
   "language": "python",
   "name": "python3"
  },
  "language_info": {
   "codemirror_mode": {
    "name": "ipython",
    "version": 3
   },
   "file_extension": ".py",
   "mimetype": "text/x-python",
   "name": "python",
   "nbconvert_exporter": "python",
   "pygments_lexer": "ipython3",
   "version": "3.7.3"
  }
 },
 "nbformat": 4,
 "nbformat_minor": 2
}
