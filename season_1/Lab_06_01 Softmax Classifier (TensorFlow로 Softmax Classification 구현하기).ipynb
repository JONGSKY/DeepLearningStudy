{
 "cells": [
  {
   "cell_type": "code",
   "execution_count": 1,
   "metadata": {},
   "outputs": [],
   "source": [
    "import tensorflow as tf\n",
    "import numpy as np"
   ]
  },
  {
   "cell_type": "code",
   "execution_count": 2,
   "metadata": {},
   "outputs": [],
   "source": [
    "# def softmax(x):\n",
    "#     e_x = np.exp(x - np.max(x))\n",
    "#     return e_x / e_x.sum()"
   ]
  },
  {
   "cell_type": "code",
   "execution_count": 9,
   "metadata": {},
   "outputs": [
    {
     "name": "stdout",
     "output_type": "stream",
     "text": [
      "0 1.6189381\n",
      "200 0.54412466\n",
      "400 0.44334543\n",
      "600 0.36661988\n",
      "800 0.29306298\n",
      "1000 0.23749594\n",
      "1200 0.21488419\n",
      "1400 0.19612351\n",
      "1600 0.18028915\n",
      "1800 0.1667484\n",
      "2000 0.15504128\n"
     ]
    }
   ],
   "source": [
    "x_data = [[1,2,1,1], [2,1,3,2],[3,1,3,4],[4,1,5,5],[1,7,5,5],[1,2,5,6],[1,6,6,6],[1,7,7,7]]\n",
    "y_data = [[0,0,1],[0,0,1],[0,0,1],[0,1,0],[0,1,0],[0,1,0],[1,0,0],[1,0,0]]\n",
    "# one-hot encoding\n",
    "\n",
    "X = tf.placeholder(\"float\",[None,4])\n",
    "Y = tf.placeholder(\"float\",[None,3])\n",
    "nb_classes = 3\n",
    "\n",
    "W = tf.Variable(tf.random_normal([4, nb_classes]), name='weight')\n",
    "b = tf.Variable(tf.random_normal([nb_classes]), name='bias')\n",
    "\n",
    "# tf.nn.softmax computes softmax activations\n",
    "# softmax = exp(Logits) / reduce_sum(exp(logits), dim)\n",
    "hypothesis = tf.nn.softmax((tf.matmul(X,W)+b))\n",
    "\n",
    "# Cross entropy cost/loss\n",
    "cost= tf.reduce_mean(-tf.reduce_sum(Y * tf.log(hypothesis), axis=1))\n",
    "optimizer = tf.train.GradientDescentOptimizer(learning_rate=0.1).minimize(cost)\n",
    "\n",
    "# Launch graph\n",
    "with tf.Session() as sess:\n",
    "    sess.run(tf.global_variables_initializer())\n",
    "    \n",
    "    for step in range(2001):\n",
    "        sess.run(optimizer, feed_dict={X:x_data, Y:y_data})\n",
    "        if step % 200 ==0 :\n",
    "            print(step, sess.run(cost, feed_dict={X:x_data, Y:y_data}))\n"
   ]
  },
  {
   "cell_type": "code",
   "execution_count": 8,
   "metadata": {},
   "outputs": [
    {
     "data": {
      "text/plain": [
       "((8, 4), (8, 3))"
      ]
     },
     "execution_count": 8,
     "metadata": {},
     "output_type": "execute_result"
    }
   ],
   "source": [
    "np.array(x_data).shape, np.array(y_data).shape"
   ]
  },
  {
   "cell_type": "code",
   "execution_count": 51,
   "metadata": {},
   "outputs": [
    {
     "data": {
      "text/plain": [
       "<tf.Tensor 'Softmax_7:0' shape=(?, 3) dtype=float32>"
      ]
     },
     "execution_count": 51,
     "metadata": {},
     "output_type": "execute_result"
    }
   ],
   "source": [
    "hypothesis"
   ]
  },
  {
   "cell_type": "code",
   "execution_count": 69,
   "metadata": {},
   "outputs": [
    {
     "name": "stdout",
     "output_type": "stream",
     "text": [
      "[[1.0000000e+00 8.5449785e-15 5.3058987e-08]] [0]\n",
      "[[1.0000000e+00 8.5449785e-15 5.3058987e-08]] [0]\n",
      "[[1.0000000e+00 8.5449785e-15 5.3058987e-08]] [0]\n",
      "[[1.0000000e+00 8.5449785e-15 5.3058987e-08]] [0]\n",
      "[[1.0000000e+00 8.5449785e-15 5.3058987e-08]] [0]\n",
      "[[1.0000000e+00 8.5449785e-15 5.3058987e-08]] [0]\n",
      "[[1.0000000e+00 8.5449785e-15 5.3058987e-08]] [0]\n",
      "[[1.0000000e+00 8.5449785e-15 5.3058987e-08]] [0]\n",
      "[[1.0000000e+00 8.5449785e-15 5.3058987e-08]] [0]\n",
      "[[1.0000000e+00 8.5449785e-15 5.3058987e-08]] [0]\n",
      "[[1.0000000e+00 8.5449785e-15 5.3058987e-08]] [0]\n"
     ]
    }
   ],
   "source": [
    "x_data = [[1,2,1,1], [2,1,3,2],[3,1,3,4],[4,1,5,5],[1,7,5,5],[1,2,5,6],[1,6,6,6],[1,7,7,7]]\n",
    "y_data = [[0,0,1],[0,0,1],[0,0,1],[0,1,0],[0,1,0],[0,1,0],[1,0,0],[1,0,0]]\n",
    "# one-hot encoding\n",
    "\n",
    "X = tf.placeholder(\"float\",[None,4])\n",
    "Y = tf.placeholder(\"float\",[None,3])\n",
    "nb_classes = 3\n",
    "\n",
    "W = tf.Variable(tf.random_normal([4, nb_classes]), name='weight')\n",
    "b = tf.Variable(tf.random_normal([nb_classes]), name='bias')\n",
    "\n",
    "# tf.nn.softmax computes softmax activations\n",
    "# softmax = exp(Logits) / reduce_sum(exp(logits), dim)\n",
    "hypothesis = tf.nn.softmax((tf.matmul(X,W)+b))\n",
    "\n",
    "# Cross entropy cost/loss\n",
    "cost= tf.reduce_mean(-tf.reduce_sum(Y * tf.log(hypothesis), axis=1))\n",
    "optimizer = tf.train.GradientDescentOptimizer(learning_rate=0.1).minimize(cost)\n",
    "\n",
    "# Launch graph\n",
    "with tf.Session() as sess:\n",
    "    sess.run(tf.global_variables_initializer())\n",
    "\n",
    "        \n",
    "    for step in range(2001):\n",
    "        a = sess.run(hypothesis, feed_dict={X:[[1,11,7,9]]})\n",
    "        if step % 200 ==0 :\n",
    "            print(a, sess.run(tf.arg_max(a,1)))            \n"
   ]
  },
  {
   "cell_type": "code",
   "execution_count": 74,
   "metadata": {},
   "outputs": [
    {
     "name": "stdout",
     "output_type": "stream",
     "text": [
      "[[9.9999988e-01 1.5201661e-07 1.5659664e-08]\n",
      " [1.0000000e+00 1.2732916e-12 5.1666638e-15]\n",
      " [3.9220664e-01 3.0078676e-02 5.7771468e-01]] [0 0 2]\n",
      "[[9.9999988e-01 1.5201661e-07 1.5659664e-08]\n",
      " [1.0000000e+00 1.2732916e-12 5.1666638e-15]\n",
      " [3.9220664e-01 3.0078676e-02 5.7771468e-01]] [0 0 2]\n",
      "[[9.9999988e-01 1.5201661e-07 1.5659664e-08]\n",
      " [1.0000000e+00 1.2732916e-12 5.1666638e-15]\n",
      " [3.9220664e-01 3.0078676e-02 5.7771468e-01]] [0 0 2]\n",
      "[[9.9999988e-01 1.5201661e-07 1.5659664e-08]\n",
      " [1.0000000e+00 1.2732916e-12 5.1666638e-15]\n",
      " [3.9220664e-01 3.0078676e-02 5.7771468e-01]] [0 0 2]\n",
      "[[9.9999988e-01 1.5201661e-07 1.5659664e-08]\n",
      " [1.0000000e+00 1.2732916e-12 5.1666638e-15]\n",
      " [3.9220664e-01 3.0078676e-02 5.7771468e-01]] [0 0 2]\n",
      "[[9.9999988e-01 1.5201661e-07 1.5659664e-08]\n",
      " [1.0000000e+00 1.2732916e-12 5.1666638e-15]\n",
      " [3.9220664e-01 3.0078676e-02 5.7771468e-01]] [0 0 2]\n"
     ]
    }
   ],
   "source": [
    "with tf.Session() as sess:\n",
    "    sess.run(tf.global_variables_initializer())\n",
    "\n",
    "    for i in range(101):    \n",
    "        \n",
    "        all = sess.run(hypothesis, feed_dict={X:[[1,11,7,9],\n",
    "                                                [1,3,4,13],\n",
    "                                                [1,1,0,1]]})\n",
    "        if i % 20 == 0:\n",
    "            print(all, sess.run(tf.arg_max(all,1)))"
   ]
  }
 ],
 "metadata": {
  "kernelspec": {
   "display_name": "Python 3",
   "language": "python",
   "name": "python3"
  },
  "language_info": {
   "codemirror_mode": {
    "name": "ipython",
    "version": 3
   },
   "file_extension": ".py",
   "mimetype": "text/x-python",
   "name": "python",
   "nbconvert_exporter": "python",
   "pygments_lexer": "ipython3",
   "version": "3.7.3"
  }
 },
 "nbformat": 4,
 "nbformat_minor": 2
}
