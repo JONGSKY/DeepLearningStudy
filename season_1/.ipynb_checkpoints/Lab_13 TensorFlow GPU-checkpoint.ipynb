{
 "cells": [
  {
   "cell_type": "markdown",
   "metadata": {},
   "source": [
    "### Deep Network\n",
    "- Takes a long time for training\n",
    "\n",
    "-- Many forward/backward propagation and weight updates\n",
    "\n",
    "-- Many metrics multiplications\n",
    "- Very quick for testing and use in practice\n",
    "\n",
    "-- One simple forward propagation"
   ]
  },
  {
   "cell_type": "markdown",
   "metadata": {},
   "source": [
    "### GPU"
   ]
  },
  {
   "cell_type": "markdown",
   "metadata": {},
   "source": [
    "- amazon web services\n",
    "\n",
    "- Google Cloud\n",
    "\n",
    "- Microsoft Azure"
   ]
  },
  {
   "cell_type": "markdown",
   "metadata": {},
   "source": [
    "tensorflow를 사용하기 위해서는 CUDA toolkit 7.5 and CuDNN v4를 필요로함"
   ]
  },
  {
   "cell_type": "code",
   "execution_count": null,
   "metadata": {},
   "outputs": [],
   "source": []
  }
 ],
 "metadata": {
  "kernelspec": {
   "display_name": "Python 3",
   "language": "python",
   "name": "python3"
  },
  "language_info": {
   "codemirror_mode": {
    "name": "ipython",
    "version": 3
   },
   "file_extension": ".py",
   "mimetype": "text/x-python",
   "name": "python",
   "nbconvert_exporter": "python",
   "pygments_lexer": "ipython3",
   "version": "3.7.3"
  }
 },
 "nbformat": 4,
 "nbformat_minor": 2
}
